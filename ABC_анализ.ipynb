{
  "nbformat": 4,
  "nbformat_minor": 0,
  "metadata": {
    "colab": {
      "provenance": [],
      "authorship_tag": "ABX9TyP/BM6WUpNPRz77xtvIBSbr"
    },
    "kernelspec": {
      "name": "python3",
      "display_name": "Python 3"
    },
    "language_info": {
      "name": "python"
    }
  },
  "cells": [
    {
      "cell_type": "code",
      "execution_count": null,
      "metadata": {
        "id": "Ru-VTi7zkmrM"
      },
      "outputs": [],
      "source": [
        "select *\n",
        "from order_details od\n",
        "\n",
        "with a as(\n",
        "\tselect product_id, sum(quantity) as quantity\n",
        "\tfrom order_details od\n",
        "\tgroup by product_id\n",
        ") -- это у нас выведет отсортированные продажи, вверх самые популярные\n",
        "b as (\n",
        "\tselect product_id, quantity, quantity / sum(quantity) over() as divis\n",
        "\tfrom a\n",
        "),\n",
        "c as (\n",
        "\tselect product_id, quantity, divis, sum(divis) over(order by divis desc) as cumsum\n",
        ")\n",
        "\n",
        "select *\n",
        "\tcase\n",
        "\t\twhen cumsum <= 0.8 then 'A'\n",
        "\t\twhen cumsum <= 0.95 then 'B'\n",
        "\t\telse 'C'\n",
        "\tend ABC\n",
        "from c"
      ]
    }
  ]
}